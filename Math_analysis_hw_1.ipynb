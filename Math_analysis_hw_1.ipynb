{
 "cells": [
  {
   "cell_type": "code",
   "execution_count": 7,
   "metadata": {},
   "outputs": [],
   "source": [
    "import numpy as np\n",
    "import random\n",
    "import math\n",
    "import itertools\n",
    "from sympy import factorial"
   ]
  },
  {
   "cell_type": "markdown",
   "metadata": {},
   "source": [
    "# Тема “Введение в математический анализ”"
   ]
  },
  {
   "cell_type": "markdown",
   "metadata": {},
   "source": [
    "### Задание 1. \n",
    "Как соотносятся понятия “множество” и “последовательность”? (в ответе использовать слова типа: часть, целое, общее, частное, родитель, дочерний субъект и т. д.)"
   ]
  },
  {
   "cell_type": "markdown",
   "metadata": {},
   "source": [
    "Последовательность является частным от целого множества, его частью."
   ]
  },
  {
   "cell_type": "markdown",
   "metadata": {},
   "source": [
    "### Задание 2. \n",
    "Прочитать высказывания математической логики, построить их отрицания и установить истинность."
   ]
  },
  {
   "cell_type": "markdown",
   "metadata": {},
   "source": [
    "$$\\forall n\\in \\mathbb{N}>2 :\\exists x, y, z\\in \\mathbb{N} : x^n = y^n + z^n$$  "
   ]
  },
  {
   "cell_type": "markdown",
   "metadata": {},
   "source": [
    "$$\\exists n\\in \\mathbb{N}>2 :\\forall x, y, z\\in \\mathbb{N} : x^n\\ne y^n + z^n$$  "
   ]
  },
  {
   "cell_type": "markdown",
   "metadata": {},
   "source": [
    "Для любого натурального числа n, которое строго больше 2, существуют натуральные x, y и z, при которых x в степени n равен сумме y в степени n и z в степени n.\n",
    "Высказывание ложное, так как ему не соответствуют натуральные числа 1 и 2."
   ]
  },
  {
   "cell_type": "markdown",
   "metadata": {},
   "source": [
    "$$\\forall x\\in \\mathbb{R}\\exists X\\in \\mathbb{R} : X > x$$"
   ]
  },
  {
   "cell_type": "markdown",
   "metadata": {},
   "source": [
    "$$\\exists x\\in \\mathbb{R}\\forall X\\in \\mathbb{R} : X\\leq x$$"
   ]
  },
  {
   "cell_type": "markdown",
   "metadata": {},
   "source": [
    "Для любого вещественного числа x, существует вещественное число X, которое больше x. Высказывание истинно."
   ]
  },
  {
   "cell_type": "markdown",
   "metadata": {},
   "source": [
    "$$\\forall x\\in \\mathbb{C}\\exists y\\in \\mathbb{C} : x > y || x < y$$"
   ]
  },
  {
   "cell_type": "markdown",
   "metadata": {},
   "source": [
    "$$\\exists x\\in \\mathbb{C}\\forall y\\in \\mathbb{C} : x\\leq y, \\ x\\geq y$$"
   ]
  },
  {
   "cell_type": "markdown",
   "metadata": {},
   "source": [
    "Для любого комплексного числа x существует комплексное число y, при котором x больше или x меньше y. Высказывание истинно."
   ]
  },
  {
   "cell_type": "markdown",
   "metadata": {},
   "source": [
    "$$\\forall y\\in[0; \\frac\\pi2]\\exists \\varepsilon > 0 : sin(y)< sin(y + \\varepsilon)$$"
   ]
  },
  {
   "cell_type": "markdown",
   "metadata": {},
   "source": [
    "$$\\exists y\\in[0; \\frac\\pi2]\\forall \\varepsilon\\leq 0 : sin(y)\\geq sin(y + \\varepsilon)$$"
   ]
  },
  {
   "cell_type": "markdown",
   "metadata": {},
   "source": [
    "Для любого y от 0 до pi/2 существует эпсилон, который больше 0, при котором sin(y) меньше sin(y + эпсилон). Высказывание истинно."
   ]
  },
  {
   "cell_type": "markdown",
   "metadata": {},
   "source": [
    "$$\\forall y\\in[0; \\pi)\\exists\\varepsilon > 0 : cos(y) > \\cos(y + \\varepsilon)$$"
   ]
  },
  {
   "cell_type": "markdown",
   "metadata": {},
   "source": [
    "$$\\exists y\\in[0; \\pi)\\forall\\varepsilon\\leq 0 : cos(y)\\leq \\cos(y + \\varepsilon)$$"
   ]
  },
  {
   "cell_type": "markdown",
   "metadata": {},
   "source": [
    "Для любого y от 0 до pi существует эпсилон, который больше 0, при котором cos(y) больше cos(y + эпсилон). Высказывание истинно."
   ]
  },
  {
   "cell_type": "markdown",
   "metadata": {},
   "source": [
    "$$\\exists x : x\\notin \\{ \\mathbb {N, Z, Q, R, C } \\}$$"
   ]
  },
  {
   "cell_type": "markdown",
   "metadata": {},
   "source": [
    "$$\\forall x : x\\notin \\{ \\mathbb {N, Z, Q, R, C } \\}$$"
   ]
  },
  {
   "cell_type": "markdown",
   "metadata": {},
   "source": [
    "Существует число x, которое не принадлежит множествам натуральных, целых, рациональных, вещественных и комплексных чисел. Высказывание ложно."
   ]
  },
  {
   "cell_type": "markdown",
   "metadata": {},
   "source": [
    "$$\\forall y \\in [0; 1] : sgn(y)=1$$"
   ]
  },
  {
   "cell_type": "markdown",
   "metadata": {},
   "source": [
    "$$\\exists y\\in [0; 1] : sgn(y)\\not=1$$ "
   ]
  },
  {
   "cell_type": "markdown",
   "metadata": {},
   "source": [
    "Для любого числа y от 0 до 1, сигнум y равен 1. Высказывание ложно, так как сигнум для y=0, равен 0."
   ]
  },
  {
   "cell_type": "markdown",
   "metadata": {},
   "source": [
    "# Тема “Множество”"
   ]
  },
  {
   "cell_type": "markdown",
   "metadata": {},
   "source": [
    "### Задание 1.\n",
    "Даны три множества a,b и с. Необходимо выполнить все изученные виды бинарных операций над всеми комбинациями множеств.\n",
    "### Задание 2.1.\n",
    "*Выполнить задание 1 на языке Python."
   ]
  },
  {
   "cell_type": "code",
   "execution_count": 95,
   "metadata": {},
   "outputs": [],
   "source": [
    "random.seed(11)\n",
    "a = set([random.randint(0, 99) for i in range(random.randint(1, 10))])\n",
    "b = set([random.randint(0, 99) for i in range(random.randint(1, 10))])\n",
    "c = set([random.randint(0, 99) for i in range(random.randint(1, 10))])"
   ]
  },
  {
   "cell_type": "code",
   "execution_count": 96,
   "metadata": {},
   "outputs": [
    {
     "name": "stdout",
     "output_type": "stream",
     "text": [
      "a: {65, 99, 71, 75, 23, 24, 57, 59}, b: {38, 11, 12, 78, 80, 18, 23, 57, 60}, c: {5, 76, 78, 81, 50, 83, 88, 57, 94}\n"
     ]
    }
   ],
   "source": [
    "print(f'a: {a}, b: {b}, c: {c}')"
   ]
  },
  {
   "cell_type": "code",
   "execution_count": 97,
   "metadata": {},
   "outputs": [
    {
     "name": "stdout",
     "output_type": "stream",
     "text": [
      "Объединение a | b : {65, 99, 38, 71, 75, 11, 12, 78, 80, 18, 23, 24, 57, 59, 60}\n",
      "Пересечение a & b : {57, 23}\n",
      "Разность a - b : {65, 99, 71, 75, 24, 59}\n",
      "Симметрическая разность a ^ b: {65, 99, 38, 71, 11, 12, 75, 78, 80, 18, 24, 59, 60}\n"
     ]
    }
   ],
   "source": [
    "print(f'Объединение a | b : {a | b}')\n",
    "print(f'Пересечение a & b : {a & b}')\n",
    "print(f'Разность a - b : {a - b}')\n",
    "print(f'Симметрическая разность a ^ b: {a ^ b}')"
   ]
  },
  {
   "cell_type": "code",
   "execution_count": 98,
   "metadata": {},
   "outputs": [
    {
     "name": "stdout",
     "output_type": "stream",
     "text": [
      "Объединение a | c : {65, 99, 5, 71, 88, 75, 76, 78, 81, 50, 83, 23, 24, 57, 59, 94}\n",
      "Пересечение a & c : {57}\n",
      "Разность a - c : {65, 99, 71, 75, 23, 24, 59}\n",
      "Симметрическая разность a ^ c: {65, 99, 5, 71, 75, 76, 78, 81, 50, 83, 24, 23, 88, 59, 94}\n"
     ]
    }
   ],
   "source": [
    "print(f'Объединение a | c : {a | c}')\n",
    "print(f'Пересечение a & c : {a & c}')\n",
    "print(f'Разность a - c : {a - c}')\n",
    "print(f'Симметрическая разность a ^ c: {a ^ c}')"
   ]
  },
  {
   "cell_type": "code",
   "execution_count": 99,
   "metadata": {},
   "outputs": [
    {
     "name": "stdout",
     "output_type": "stream",
     "text": [
      "Объединение b | c : {5, 38, 11, 12, 76, 78, 80, 81, 18, 50, 83, 23, 88, 57, 60, 94}\n",
      "Пересечение b & c : {57, 78}\n",
      "Разность b - c : {38, 11, 12, 80, 18, 23, 60}\n",
      "Симметрическая разность b ^ c: {5, 38, 11, 76, 12, 80, 81, 50, 83, 18, 23, 88, 60, 94}\n"
     ]
    }
   ],
   "source": [
    "print(f'Объединение b | c : {b | c}')\n",
    "print(f'Пересечение b & c : {b & c}')\n",
    "print(f'Разность b - c : {b - c}')\n",
    "print(f'Симметрическая разность b ^ c: {b ^ c}')"
   ]
  }
 ],
 "metadata": {
  "kernelspec": {
   "display_name": "Python 3",
   "language": "python",
   "name": "python3"
  },
  "language_info": {
   "codemirror_mode": {
    "name": "ipython",
    "version": 3
   },
   "file_extension": ".py",
   "mimetype": "text/x-python",
   "name": "python",
   "nbconvert_exporter": "python",
   "pygments_lexer": "ipython3",
   "version": "3.7.0"
  }
 },
 "nbformat": 4,
 "nbformat_minor": 2
}
